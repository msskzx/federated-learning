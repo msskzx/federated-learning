{
  "cells": [
    {
      "cell_type": "markdown",
      "metadata": {
        "pycharm": {
          "metadata": false
        }
      },
      "source": [
        "# 1. Download Decathlon Dataset with Monai APIs \n",
        "\n",
        "[Medical Decathlon](http://medicaldecathlon.com/) dataset is public avalibe dataset which you can manually download. \n",
        "This notebook using monai API to download any of the decathlon data sets to your Data folder. \n",
        "You can then use this data to train models using the SDK. \n",
        "Medical Decathlon has multiple data sets for different organs as:\n",
        "Liver Tumours, Brain Tumours, Hippocampus, Lung Tumours, \n",
        "Prostate, Cardiac, Pancreas Tumour, Colon Cancer, Hepatic Vessels, Spleen"
      ]
    },
    {
      "cell_type": "code",
      "execution_count": 1,
      "metadata": {
        "pycharm": {
          "metadata": false,
          "name": "#%%\n"
        }
      },
      "outputs": [
        {
          "name": "stdout",
          "output_type": "stream",
          "text": [
            "/home/msskzx/deepc_fl/spleen_dataset\n",
            "/home/msskzx/deepc_fl/spleen_dataset\n"
          ]
        }
      ],
      "source": [
        "DataRoot=\"/home/msskzx/deepc_fl/spleen_dataset\"\n",
        "%cd $DataRoot\n",
        "!pwd\n"
      ]
    },
    {
      "cell_type": "code",
      "execution_count": 2,
      "metadata": {
        "pycharm": {
          "metadata": false,
          "name": "#%%\n"
        }
      },
      "outputs": [
        {
          "name": "stdout",
          "output_type": "stream",
          "text": [
            "MONAI version: 0.5.3\n",
            "Numpy version: 1.17.4\n",
            "Pytorch version: 1.9.0+cu102\n",
            "MONAI flags: HAS_EXT = False, USE_COMPILED = False\n",
            "MONAI rev id: d78c669c67e38ddfbe572f6a0438e9df0b8c65d7\n",
            "\n",
            "Optional dependencies:\n",
            "Pytorch Ignite version: NOT INSTALLED or UNKNOWN VERSION.\n",
            "Nibabel version: NOT INSTALLED or UNKNOWN VERSION.\n",
            "scikit-image version: NOT INSTALLED or UNKNOWN VERSION.\n",
            "Pillow version: 7.0.0\n",
            "Tensorboard version: NOT INSTALLED or UNKNOWN VERSION.\n",
            "gdown version: NOT INSTALLED or UNKNOWN VERSION.\n",
            "TorchVision version: NOT INSTALLED or UNKNOWN VERSION.\n",
            "ITK version: NOT INSTALLED or UNKNOWN VERSION.\n",
            "tqdm version: 4.61.2.dev9+g4735e81\n",
            "lmdb version: NOT INSTALLED or UNKNOWN VERSION.\n",
            "psutil version: NOT INSTALLED or UNKNOWN VERSION.\n",
            "\n",
            "For details about installing the optional dependencies, please visit:\n",
            "    https://docs.monai.io/en/latest/installation.html#installing-the-recommended-dependencies\n",
            "\n"
          ]
        }
      ],
      "source": [
        "import monai\n",
        "monai.config.print_config()\n"
      ]
    },
    {
      "cell_type": "markdown",
      "metadata": {
        "pycharm": {
          "metadata": false
        }
      },
      "source": [
        "## 1.1.1. Brain Tumor Data Set\n",
        "This dataset has the following details:\n",
        "- Target: Gliomas segmentation necrotic/active tumour and oedema\n",
        "- Modality: Multimodal multisite MRI data (FLAIR, T1w, T1gd,T2w)\n",
        "- Size: 750 4D volumes (484 Training + 266 Testing)\n",
        "- Source: BRATS 2016 and 2017 datasets.\n",
        "- Challenge: Complex and heterogeneously-located targets"
      ]
    },
    {
      "cell_type": "code",
      "execution_count": null,
      "metadata": {
        "pycharm": {
          "metadata": false,
          "name": "#%%\n"
        }
      },
      "outputs": [],
      "source": [
        "myTask='Task01_BrainTumour'\n",
        "dataset = monai.apps.DecathlonDataset(root_dir=DataRoot, task=myTask, section=\"training\", download=True)"
      ]
    },
    {
      "cell_type": "markdown",
      "metadata": {
        "pycharm": {
          "metadata": false
        }
      },
      "source": [
        "\n",
        "## 1.1.2. Heart Data Set\n",
        "This dataset has the following details:\n",
        "- Target: Left Atrium\n",
        "- Modality: Mono-modal MRI  \n",
        "- Size: 30 3D volumes (20 Training + 10 Testing)\n",
        "- Source: King’s College London\n",
        "- Challenge: Small training dataset with large variability"
      ]
    },
    {
      "cell_type": "code",
      "execution_count": null,
      "metadata": {
        "pycharm": {
          "metadata": false,
          "name": "#%%\n"
        }
      },
      "outputs": [],
      "source": [
        "myTask='Task02_Heart'\n",
        "dataset = monai.apps.DecathlonDataset(root_dir=DataRoot, task=myTask, section=\"training\", download=True)"
      ]
    },
    {
      "cell_type": "markdown",
      "metadata": {
        "pycharm": {
          "metadata": false
        }
      },
      "source": [
        "\n",
        "## 1.1.3. Liver Data Set\n",
        "This dataset has the following details:\n",
        "- Target: Liver and tumour\n",
        "- Modality: Portal venous phase CT\n",
        "- Size: 201 3D volumes (131 Training + 70 Testing)\n",
        "- Source: IRCAD Hôpitaux Universitaires\n",
        "- Challenge: Label unbalance with a large (liver) and small (tumour) target"
      ]
    },
    {
      "cell_type": "code",
      "execution_count": null,
      "metadata": {
        "pycharm": {
          "metadata": false,
          "name": "#%%\n"
        }
      },
      "outputs": [],
      "source": [
        "myTask=\"Task03_Liver\" # will take along time (3+ hours )\n",
        "dataset = monai.apps.DecathlonDataset(root_dir=DataRoot, task=myTask, section=\"training\", download=True)"
      ]
    },
    {
      "cell_type": "markdown",
      "metadata": {
        "pycharm": {
          "metadata": false
        }
      },
      "source": [
        "\n",
        "## 1.1.4. Hippocampus Data Set\n",
        "This dataset has the following details:\n",
        "- Target: Hippocampus head and body\n",
        "- Modality: Mono-modal MRI \n",
        "- Size: 394 3D volumes (263 Training + 131 Testing)\n",
        "- Source: Vanderbilt University Medical Center\n",
        "- Challenge: Segmenting two neighbouring small structures with high precision \n"
      ]
    },
    {
      "cell_type": "code",
      "execution_count": null,
      "metadata": {
        "pycharm": {
          "metadata": false,
          "name": "#%%\n"
        }
      },
      "outputs": [],
      "source": [
        "myTask='Task04_Hippocampus'\n",
        "dataset = monai.apps.DecathlonDataset(root_dir=DataRoot, task=myTask, section=\"training\", download=True)"
      ]
    },
    {
      "cell_type": "markdown",
      "metadata": {
        "pycharm": {
          "metadata": false
        }
      },
      "source": [
        "\n",
        "## 1.1.5. Prostate Data Set\n",
        "This dataset has the following details:\n",
        "- Target: Prostate central gland and peripheral zone \n",
        "- Modality: Multimodal MR (T2, ADC)\n",
        "- Size: 48 4D volumes (32 Training + 16 Testing)\n",
        "- Source: Radboud University, Nijmegen Medical Centre\n",
        "- Challenge: Segmenting two adjoint regions with large inter-subject variations"
      ]
    },
    {
      "cell_type": "code",
      "execution_count": null,
      "metadata": {
        "pycharm": {
          "metadata": false,
          "name": "#%%\n"
        }
      },
      "outputs": [],
      "source": [
        "myTask='Task05_Prostate'\n",
        "dataset = monai.apps.DecathlonDataset(root_dir=DataRoot, task=myTask, section=\"training\", download=True)"
      ]
    },
    {
      "cell_type": "markdown",
      "metadata": {
        "pycharm": {
          "metadata": false
        }
      },
      "source": [
        "\n",
        "## 1.1.6. Lung Data Set\n",
        "This dataset has the following details:\n",
        "- Target: Lung and tumours\n",
        "- Modality: CT\n",
        "- Size: 96 3D volumes (64 Training + 32 Testing)\n",
        "- Source: The Cancer Imaging Archive\n",
        "- Challenge: Segmentation of a small target (cancer) in a large image"
      ]
    },
    {
      "cell_type": "code",
      "execution_count": null,
      "metadata": {
        "pycharm": {
          "metadata": false,
          "name": "#%%\n"
        }
      },
      "outputs": [],
      "source": [
        "myTask='Task06_Lung'\n",
        "dataset = monai.apps.DecathlonDataset(root_dir=DataRoot, task=myTask, section=\"training\", download=True)"
      ]
    },
    {
      "cell_type": "markdown",
      "metadata": {
        "pycharm": {
          "metadata": false
        }
      },
      "source": [
        "\n",
        "## 1.1.7. Pancreas Data Set\n",
        "This dataset has the following details:\n",
        "- Target: Liver and tumour\n",
        "- Modality: Portal venous phase CT\n",
        "- Size: 420 3D volumes (282 Training +139 Testing)\n",
        "- Source: Memorial Sloan Kettering Cancer Center\n",
        "- Challenge: Label unbalance with large (background), \n",
        "medium (pancreas) and small (tumour) structures. "
      ]
    },
    {
      "cell_type": "code",
      "execution_count": null,
      "metadata": {
        "pycharm": {
          "metadata": false,
          "name": "#%%\n"
        }
      },
      "outputs": [],
      "source": [
        "myTask='Task07_Pancreas'\n",
        "dataset = monai.apps.DecathlonDataset(root_dir=DataRoot, task=myTask, section=\"training\", download=True)"
      ]
    },
    {
      "cell_type": "markdown",
      "metadata": {
        "pycharm": {
          "metadata": false
        }
      },
      "source": [
        "\n",
        "## 1.1.8. Hepatic Vessel Data Set\n",
        "This dataset has the following details:\n",
        "- Target: Hepatic vessels and tumour\n",
        "- Modality: CT\n",
        "- Size: 443 3D volumes (303 Training + 140 Testing)\n",
        "- Source: Memorial Sloan Kettering Cancer Center\n",
        "- Challenge: Tubular small structures next to heterogeneous tumour. "
      ]
    },
    {
      "cell_type": "code",
      "execution_count": null,
      "metadata": {
        "pycharm": {
          "metadata": false,
          "name": "#%%\n"
        }
      },
      "outputs": [],
      "source": [
        "myTask='Task08_HepaticVessel'\n",
        "dataset = monai.apps.DecathlonDataset(root_dir=DataRoot, task=myTask, section=\"training\", download=True)"
      ]
    },
    {
      "cell_type": "markdown",
      "metadata": {
        "pycharm": {
          "metadata": false
        }
      },
      "source": [
        "\n",
        "## 1.1.9. Spleen Data Set\n",
        "This dataset has the following details:\n",
        "- Target: Spleen\n",
        "- Modality: CT  \n",
        "- Size: 61 3D volumes (41 Training + 20 Testing)\n",
        "- Source: Memorial Sloan Kettering Cancer Center\n",
        "- Challenge: Large ranging foreground size"
      ]
    },
    {
      "cell_type": "code",
      "execution_count": 3,
      "metadata": {
        "pycharm": {
          "metadata": false,
          "name": "#%%\n"
        }
      },
      "outputs": [
        {
          "name": "stderr",
          "output_type": "stream",
          "text": [
            "Task09_Spleen.tar:  42%|████▏     | 645M/1.50G [1:23:08<1:45:47, 147kB/s]"
          ]
        }
      ],
      "source": [
        "myTask= 'Task09_Spleen'\n",
        "dataset = monai.apps.DecathlonDataset(root_dir=DataRoot, task=myTask, section=\"training\", download=True)"
      ]
    },
    {
      "cell_type": "markdown",
      "metadata": {
        "pycharm": {
          "metadata": false
        }
      },
      "source": [
        "## 1.1.10. Colon Data Set\n",
        "This dataset has the following details:\n",
        "- Target: Colon Cancer Primaries\n",
        "- Modality: CT  \n",
        "- Size: 190 3D volumes (126 Training + 64 Testing)\n",
        "- Source: Memorial Sloan Kettering Cancer Center\n",
        "- Challenge: Heterogeneous appearance"
      ]
    },
    {
      "cell_type": "code",
      "execution_count": null,
      "metadata": {
        "pycharm": {
          "metadata": false,
          "name": "#%%\n"
        }
      },
      "outputs": [],
      "source": [
        "myTask='Task10_Colon'\n",
        "dataset = monai.apps.DecathlonDataset(root_dir=DataRoot, task=myTask, section=\"training\", download=True)\n"
      ]
    },
    {
      "cell_type": "markdown",
      "metadata": {
        "pycharm": {
          "metadata": false
        }
      },
      "source": [
        "## 1.2 Remove unneeded tar files "
      ]
    },
    {
      "cell_type": "code",
      "execution_count": null,
      "metadata": {
        "pycharm": {
          "metadata": false,
          "name": "#%%\n"
        }
      },
      "outputs": [],
      "source": [
        "! rm $DataRoot/*.tar"
      ]
    },
    {
      "cell_type": "markdown",
      "metadata": {
        "pycharm": {
          "metadata": false
        }
      },
      "source": [
        "## 1.3 Check on data\n",
        "For any of the downloaded data set above you can run cell below to check on number of data sets and the image shape"
      ]
    },
    {
      "cell_type": "code",
      "execution_count": null,
      "metadata": {
        "pycharm": {
          "metadata": false,
          "name": "#%%\n"
        }
      },
      "outputs": [],
      "source": [
        "print(dataset.get_properties(\"numTraining\"))\n",
        "print(dataset.get_properties(\"description\"))\n"
      ]
    },
    {
      "cell_type": "code",
      "execution_count": null,
      "metadata": {
        "pycharm": {
          "metadata": false,
          "name": "#%%\n"
        }
      },
      "outputs": [],
      "source": [
        "print(dataset[0]['image'].shape)\n",
        "print(dataset[0]['label'].shape)\n"
      ]
    },
    {
      "cell_type": "markdown",
      "metadata": {
        "pycharm": {
          "metadata": false
        }
      },
      "source": [
        "# 2. Load images into OHIF\n",
        "If you are using AIAA with OHIF integration, \n",
        "then you would need to Dicom images.\n",
        "We will convert nifti to Dicom then upload it to the pacs backend.\n",
        "First lets install needed packages"
      ]
    },
    {
      "cell_type": "code",
      "execution_count": null,
      "metadata": {
        "pycharm": {
          "metadata": false,
          "name": "#%%\n"
        }
      },
      "outputs": [],
      "source": [
        "! apt-get install -y plastimatch\n",
        "! apt-get install -y dcmtk"
      ]
    },
    {
      "cell_type": "markdown",
      "metadata": {
        "pycharm": {
          "metadata": false
        }
      },
      "source": [
        "\n",
        "Next we will do set some directories and do some clean up "
      ]
    },
    {
      "cell_type": "code",
      "execution_count": null,
      "metadata": {
        "pycharm": {
          "metadata": false,
          "name": "#%%\n"
        }
      },
      "outputs": [],
      "source": [
        "spleenDir=DataRoot+\"/Task09_Spleen/imagesTs/\"\n",
        "spleenDcmDir=DataRoot+\"/Task09_Spleen/imagesTsDCM/\"\n",
        "cmd = \"rm \"+spleenDir+\"._spleen*\" # remove some mac files from download\n",
        "! $cmd"
      ]
    },
    {
      "cell_type": "markdown",
      "metadata": {
        "pycharm": {
          "metadata": false,
          "name": "#%% md\n"
        }
      },
      "source": [
        "## 2.1 Convert nifti to dicoms "
      ]
    },
    {
      "cell_type": "code",
      "execution_count": null,
      "metadata": {
        "pycharm": {
          "metadata": false,
          "name": "#%%\n"
        }
      },
      "outputs": [],
      "source": [
        "import glob\n",
        "import os\n",
        "for i,patName in enumerate(os.listdir(spleenDir)): #glob.glob(spleenDir+\"/*.nii.gz\"):\n",
        "    patName=patName[:-7]\n",
        "    print(\"------converting \",patName)\n",
        "    PatDcmDir=spleenDcmDir+patName\n",
        "    os.makedirs(PatDcmDir, exist_ok=True)\n",
        "    fName=spleenDir+patName+\".nii.gz\"\n",
        "    cmd = \"plastimatch convert --input \" + fName + \" --output-dicom \" + PatDcmDir +\" --patient-name \"+ patName \n",
        "    cmd +=\" --series-description \"+ patName \n",
        "#     cmd +=\" --series-number 1\"\n",
        "#     cmd +=\" --series-uid <arg>        series UID for image metadata: string \n",
        "#     cmd +=\" --patient-pos ffp\" #hfs hfp ffs ffp\n",
        "#     cmd +=\" --direction-cosines rotated-3\" #{identity,rotated-{1,2,3},sheared}\n",
        "    !$cmd\n",
        "    if i>1:\n",
        "        break"
      ]
    },
    {
      "cell_type": "markdown",
      "metadata": {
        "pycharm": {
          "metadata": false
        }
      },
      "source": [
        "## 2.2 Push dicom to orthanc"
      ]
    },
    {
      "cell_type": "code",
      "execution_count": null,
      "metadata": {
        "pycharm": {
          "metadata": false,
          "name": "#%%\n"
        }
      },
      "outputs": [],
      "source": [
        "cmd='storescu -v +sd +r -xb -v -aet \"fromtest\" -aec \"ORTHANC\" orthanc 4242 '+spleenDcmDir\n",
        "!$cmd"
      ]
    }
  ],
  "metadata": {
    "interpreter": {
      "hash": "31f2aee4e71d21fbe5cf8b01ff0e069b9275f58929596ceb00d14d90e3e16cd6"
    },
    "kernelspec": {
      "display_name": "Python 3.8.10 64-bit",
      "name": "python3"
    },
    "language_info": {
      "codemirror_mode": {
        "name": "ipython",
        "version": 3
      },
      "file_extension": ".py",
      "mimetype": "text/x-python",
      "name": "python",
      "nbconvert_exporter": "python",
      "pygments_lexer": "ipython3",
      "version": "3.8.10"
    },
    "stem_cell": {
      "cell_type": "raw",
      "metadata": {
        "pycharm": {
          "metadata": false
        }
      },
      "source": "<!--- SPDX-License-Identifier: Apache-2.0 -->\n"
    }
  },
  "nbformat": 4,
  "nbformat_minor": 4
}